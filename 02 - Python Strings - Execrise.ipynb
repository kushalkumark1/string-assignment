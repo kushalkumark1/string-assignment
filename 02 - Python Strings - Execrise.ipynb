{
 "cells": [
  {
   "cell_type": "markdown",
   "metadata": {},
   "source": [
    "# Assignment Instructions\n",
    "\n",
    "`Hello Innominion,`\n",
    "\n",
    "- **Try to attempt all the questions in every possible way.**\n",
    "- **Some other topics are required to solve some questions. don't panic.**\n",
    "- **Those questions can be answered after the topics are taught.**\n",
    "\n",
    "\n",
    "- `Join Mentoring Session for the Support/Doubts Resolving with Our Technical Mentors (2.00 PM - 6.00 PM  Mon-Sat)` \n",
    "\n",
    "Happy Learning !!!"
   ]
  },
  {
   "cell_type": "code",
   "execution_count": null,
   "metadata": {},
   "outputs": [],
   "source": []
  },
  {
   "cell_type": "markdown",
   "metadata": {},
   "source": [
    "# Strings - Execrise"
   ]
  },
  {
   "cell_type": "code",
   "execution_count": 1,
   "metadata": {},
   "outputs": [],
   "source": [
    "text = \"\"\"The University of Hawaii began using radio to send digital information as early as 1971,using ALOHAnet. \n",
    "Friedhelm Hillebrand conceptualised SMS in 1984 while working for Deutsche Telekom. Sitting at a typewriter at home, \n",
    "Hillebrand typed out random sentences and counted every letter, number, punctuation, and space. \n",
    "Almost every time, the messages contained fewer than 160 characters, thus giving the basis for the \n",
    "limit one could type via text messaging. With Bernard Ghillebaert of France Télécom, he developed \n",
    "a proposal for the GSM (Groupe Spécial Mobile) meeting in February 1985 in Oslo. \n",
    "The first technical solution evolved in a GSM subgroup under the leadership of Finn Trosby. \n",
    "It was further developed under the leadership of Kevin Holley and Ian Harris (see Short Message Service). \n",
    "SMS forms an integral part of SS7 (Signalling System No. 7). Under SS7, it is a \"state\" with a 160 character data, \n",
    "coded in the ITU-T \"T.56\" text format, that has a \"sequence lead in\" to determine different language codes, \n",
    "and may have special character codes that permits, for example, sending simple graphs as text. \n",
    "This was part of ISDN (Integrated Services Digital Network) and since GSM is based on this, \n",
    "made its way to the mobile phone. Messages could be sent and received on ISDN phones, \n",
    "and these can send SMS to any GSM phone. The possibility of doing something is one thing, \n",
    "implementing it another, but systems existed from 1988 that sent SMS messages to mobile phones (compare ND-NOTIS).\"\"\""
   ]
  },
  {
   "cell_type": "markdown",
   "metadata": {},
   "source": [
    ">  `Question:` How many characters in text"
   ]
  },
  {
   "cell_type": "code",
   "execution_count": 2,
   "metadata": {},
   "outputs": [],
   "source": [
    "text = \"\"\"The University of Hawaii began using radio to send digital information as early as 1971,using ALOHAnet. \n",
    "Friedhelm Hillebrand conceptualised SMS in 1984 while working for Deutsche Telekom. Sitting at a typewriter at home, \n",
    "Hillebrand typed out random sentences and counted every letter, number, punctuation, and space. \n",
    "Almost every time, the messages contained fewer than 160 characters, thus giving the basis for the \n",
    "limit one could type via text messaging. With Bernard Ghillebaert of France Télécom, he developed \n",
    "a proposal for the GSM (Groupe Spécial Mobile) meeting in February 1985 in Oslo. \n",
    "The first technical solution evolved in a GSM subgroup under the leadership of Finn Trosby. \n",
    "It was further developed under the leadership of Kevin Holley and Ian Harris (see Short Message Service). \n",
    "SMS forms an integral part of SS7 (Signalling System No. 7). Under SS7, it is a \"state\" with a 160 character data, \n",
    "coded in the ITU-T \"T.56\" text format, that has a \"sequence lead in\" to determine different language codes, \n",
    "and may have special character codes that permits, for example, sending simple graphs as text. \n",
    "This was part of ISDN (Integrated Services Digital Network) and since GSM is based on this, \n",
    "made its way to the mobile phone. Messages could be sent and received on ISDN phones, \n",
    "and these can send SMS to any GSM phone. The possibility of doing something is one thing, \n",
    "implementing it another, but systems existed from 1988 that sent SMS messages to mobile phones (compare ND-NOTIS).\"\"\""
   ]
  },
  {
   "cell_type": "code",
   "execution_count": 3,
   "metadata": {},
   "outputs": [
    {
     "data": {
      "text/plain": [
       "1507"
      ]
     },
     "execution_count": 3,
     "metadata": {},
     "output_type": "execute_result"
    }
   ],
   "source": [
    "len(text)"
   ]
  },
  {
   "cell_type": "markdown",
   "metadata": {},
   "source": [
    ">  `Question:` How many words are there in the \"text\""
   ]
  },
  {
   "cell_type": "code",
   "execution_count": 4,
   "metadata": {},
   "outputs": [
    {
     "data": {
      "text/plain": [
       "244"
      ]
     },
     "execution_count": 4,
     "metadata": {},
     "output_type": "execute_result"
    }
   ],
   "source": [
    "len(text.split())"
   ]
  },
  {
   "cell_type": "code",
   "execution_count": null,
   "metadata": {},
   "outputs": [],
   "source": []
  },
  {
   "cell_type": "markdown",
   "metadata": {},
   "source": [
    ">  `Question:` How many unique words in the \"text\""
   ]
  },
  {
   "cell_type": "code",
   "execution_count": 8,
   "metadata": {},
   "outputs": [
    {
     "data": {
      "text/plain": [
       "174"
      ]
     },
     "execution_count": 8,
     "metadata": {},
     "output_type": "execute_result"
    }
   ],
   "source": [
    "x=text.split()\n",
    "y=list(set(x))\n",
    "len(y)"
   ]
  },
  {
   "cell_type": "code",
   "execution_count": null,
   "metadata": {},
   "outputs": [],
   "source": []
  },
  {
   "cell_type": "markdown",
   "metadata": {},
   "source": [
    ">  `Question:` Find Lexical diversity\n",
    "\n",
    "lexical_diversity = (number of words)/(number of unique words)"
   ]
  },
  {
   "cell_type": "code",
   "execution_count": 8,
   "metadata": {},
   "outputs": [
    {
     "data": {
      "text/plain": [
       "1.4022988505747127"
      ]
     },
     "execution_count": 8,
     "metadata": {},
     "output_type": "execute_result"
    }
   ],
   "source": []
  },
  {
   "cell_type": "code",
   "execution_count": 12,
   "metadata": {},
   "outputs": [],
   "source": [
    "x=244\n",
    "y=174"
   ]
  },
  {
   "cell_type": "code",
   "execution_count": 13,
   "metadata": {},
   "outputs": [],
   "source": [
    "lexical_diversity=x/y"
   ]
  },
  {
   "cell_type": "code",
   "execution_count": 14,
   "metadata": {},
   "outputs": [
    {
     "data": {
      "text/plain": [
       "1.4022988505747127"
      ]
     },
     "execution_count": 14,
     "metadata": {},
     "output_type": "execute_result"
    }
   ],
   "source": [
    "lexical_diversity"
   ]
  },
  {
   "cell_type": "markdown",
   "metadata": {},
   "source": [
    ">  `Question:` Count how many \"the\" in text"
   ]
  },
  {
   "cell_type": "code",
   "execution_count": 44,
   "metadata": {},
   "outputs": [
    {
     "data": {
      "text/plain": [
       "14"
      ]
     },
     "execution_count": 44,
     "metadata": {},
     "output_type": "execute_result"
    }
   ],
   "source": [
    "text.count(\"the\")+text.count(\"The\")"
   ]
  },
  {
   "cell_type": "code",
   "execution_count": 10,
   "metadata": {},
   "outputs": [
    {
     "data": {
      "text/plain": [
       "14"
      ]
     },
     "execution_count": 10,
     "metadata": {},
     "output_type": "execute_result"
    }
   ],
   "source": []
  },
  {
   "cell_type": "markdown",
   "metadata": {},
   "source": [
    ">  `Question:` Count how many \"a\" in text"
   ]
  },
  {
   "cell_type": "code",
   "execution_count": 92,
   "metadata": {},
   "outputs": [
    {
     "data": {
      "text/plain": [
       "92"
      ]
     },
     "execution_count": 92,
     "metadata": {},
     "output_type": "execute_result"
    }
   ],
   "source": [
    "text.count(\"a\")+text.count(\"A\")"
   ]
  },
  {
   "cell_type": "markdown",
   "metadata": {},
   "source": [
    ">  `Question:` Extract First 10 words in text"
   ]
  },
  {
   "cell_type": "code",
   "execution_count": 160,
   "metadata": {},
   "outputs": [
    {
     "data": {
      "text/plain": [
       "'The University of Hawaii began using radio to send digital '"
      ]
     },
     "execution_count": 160,
     "metadata": {},
     "output_type": "execute_result"
    }
   ],
   "source": [
    "text[0:59]"
   ]
  },
  {
   "cell_type": "code",
   "execution_count": 15,
   "metadata": {},
   "outputs": [
    {
     "data": {
      "text/plain": [
       "'The University of Hawaii began using radio to send digital '"
      ]
     },
     "execution_count": 15,
     "metadata": {},
     "output_type": "execute_result"
    }
   ],
   "source": []
  },
  {
   "cell_type": "markdown",
   "metadata": {},
   "source": [
    ">  `Question:` Append \" Innomatics Reseach Labs\" after first 10 words in the text"
   ]
  },
  {
   "cell_type": "code",
   "execution_count": 56,
   "metadata": {},
   "outputs": [],
   "source": [
    "a=text[0:59]\n",
    "b=\"innomatics research labs\"\n",
    "z=a+b"
   ]
  },
  {
   "cell_type": "code",
   "execution_count": 57,
   "metadata": {},
   "outputs": [
    {
     "data": {
      "text/plain": [
       "'The University of Hawaii began using radio to send digital innomatics research labs'"
      ]
     },
     "execution_count": 57,
     "metadata": {},
     "output_type": "execute_result"
    }
   ],
   "source": [
    "z"
   ]
  },
  {
   "cell_type": "markdown",
   "metadata": {},
   "source": [
    ">  `Question:` Extract First Fourteen (14) character in text"
   ]
  },
  {
   "cell_type": "code",
   "execution_count": 172,
   "metadata": {},
   "outputs": [
    {
     "data": {
      "text/plain": [
       "'The University'"
      ]
     },
     "execution_count": 172,
     "metadata": {},
     "output_type": "execute_result"
    }
   ],
   "source": [
    "text[0:14]"
   ]
  },
  {
   "cell_type": "code",
   "execution_count": 17,
   "metadata": {},
   "outputs": [
    {
     "data": {
      "text/plain": [
       "'The University'"
      ]
     },
     "execution_count": 17,
     "metadata": {},
     "output_type": "execute_result"
    }
   ],
   "source": []
  },
  {
   "cell_type": "markdown",
   "metadata": {},
   "source": [
    ">  `Question:` Extract first Fourteen (14) words in text"
   ]
  },
  {
   "cell_type": "code",
   "execution_count": 175,
   "metadata": {},
   "outputs": [
    {
     "data": {
      "text/plain": [
       "'The University of Hawaii began using radio to send digital information as early as'"
      ]
     },
     "execution_count": 175,
     "metadata": {},
     "output_type": "execute_result"
    }
   ],
   "source": [
    "text[0:82]"
   ]
  },
  {
   "cell_type": "code",
   "execution_count": 19,
   "metadata": {},
   "outputs": [
    {
     "data": {
      "text/plain": [
       "'The University of Hawaii began using radio to send digital information as early as'"
      ]
     },
     "execution_count": 19,
     "metadata": {},
     "output_type": "execute_result"
    }
   ],
   "source": []
  },
  {
   "cell_type": "markdown",
   "metadata": {},
   "source": [
    ">  `Question:` Extract First 10 words in text\n",
    "- Convert every letter into ***upper*** case\n",
    "- Convert every letter into ***lower*** case"
   ]
  },
  {
   "cell_type": "code",
   "execution_count": 176,
   "metadata": {},
   "outputs": [
    {
     "data": {
      "text/plain": [
       "'THE UNIVERSITY OF HAWAII BEGAN USING RADIO TO SEND DIGITAL '"
      ]
     },
     "execution_count": 176,
     "metadata": {},
     "output_type": "execute_result"
    }
   ],
   "source": [
    "text[0:59].upper()"
   ]
  },
  {
   "cell_type": "code",
   "execution_count": 21,
   "metadata": {},
   "outputs": [
    {
     "data": {
      "text/plain": [
       "'THE UNIVERSITY OF HAWAII BEGAN USING RADIO TO SEND DIGITAL'"
      ]
     },
     "execution_count": 21,
     "metadata": {},
     "output_type": "execute_result"
    }
   ],
   "source": []
  },
  {
   "cell_type": "code",
   "execution_count": 177,
   "metadata": {},
   "outputs": [
    {
     "data": {
      "text/plain": [
       "'the university of hawaii began using radio to send digital '"
      ]
     },
     "execution_count": 177,
     "metadata": {},
     "output_type": "execute_result"
    }
   ],
   "source": [
    "text[0:59].lower()"
   ]
  },
  {
   "cell_type": "code",
   "execution_count": 23,
   "metadata": {},
   "outputs": [
    {
     "data": {
      "text/plain": [
       "'the university of hawaii began using radio to send digital'"
      ]
     },
     "execution_count": 23,
     "metadata": {},
     "output_type": "execute_result"
    }
   ],
   "source": []
  },
  {
   "cell_type": "markdown",
   "metadata": {},
   "source": [
    ">  `Question:`  Find the list of letter starting with \n",
    "- u\n",
    "- o\n",
    "> `hint - You need to use for loop for this`"
   ]
  },
  {
   "cell_type": "code",
   "execution_count": 16,
   "metadata": {},
   "outputs": [],
   "source": [
    "#code here\n"
   ]
  },
  {
   "cell_type": "code",
   "execution_count": 25,
   "metadata": {},
   "outputs": [],
   "source": [
    "a= \"\"\"The University of Hawaii began using radio to send digital information as early as 1971,using ALOHAnet. \n",
    "Friedhelm Hillebrand conceptualised SMS in 1984 while working for Deutsche Telekom. Sitting at a typewriter at home, \n",
    "Hillebrand typed out random sentences and counted every letter, number, punctuation, and space. \n",
    "Almost every time, the messages contained fewer than 160 characters, thus giving the basis for the \n",
    "limit one could type via text messaging. With Bernard Ghillebaert of France Télécom, he developed \n",
    "a proposal for the GSM (Groupe Spécial Mobile) meeting in February 1985 in Oslo. \n",
    "The first technical solution evolved in a GSM subgroup under the leadership of Finn Trosby. \n",
    "It was further developed under the leadership of Kevin Holley and Ian Harris (see Short Message Service). \n",
    "SMS forms an integral part of SS7 (Signalling System No. 7). Under SS7, it is a \"state\" with a 160 character data, \n",
    "coded in the ITU-T \"T.56\" text format, that has a \"sequence lead in\" to determine different language codes, \n",
    "and may have special character codes that permits, for example, sending simple graphs as text. \n",
    "This was part of ISDN (Integrated Services Digital Network) and since GSM is based on this, \n",
    "made its way to the mobile phone. Messages could be sent and received on ISDN phones, \n",
    "and these can send SMS to any GSM phone. The possibility of doing something is one thing, \n",
    "implementing it another, but systems existed from 1988 that sent SMS messages to mobile phones (compare ND-NOTIS).\"\"\""
   ]
  },
  {
   "cell_type": "code",
   "execution_count": 26,
   "metadata": {},
   "outputs": [
    {
     "name": "stdout",
     "output_type": "stream",
     "text": [
      "list of words starting with :\n"
     ]
    },
    {
     "data": {
      "text/plain": [
       "{'under', 'university', 'using'}"
      ]
     },
     "execution_count": 26,
     "metadata": {},
     "output_type": "execute_result"
    }
   ],
   "source": [
    "a=a.lower()\n",
    "x=a.split()\n",
    "b=[]\n",
    "r=0\n",
    "d=len(x)\n",
    "while r<d:\n",
    "    if x[r].startswith(\"u\"):\n",
    "        b.append(x[r])\n",
    "    r=r+1\n",
    "print(\"list of words starting with :\")\n",
    "set(b)"
   ]
  },
  {
   "cell_type": "code",
   "execution_count": 27,
   "metadata": {},
   "outputs": [
    {
     "name": "stdout",
     "output_type": "stream",
     "text": [
      "list of words ending with :\n"
     ]
    },
    {
     "data": {
      "text/plain": [
       "{'radio', 'to'}"
      ]
     },
     "execution_count": 27,
     "metadata": {},
     "output_type": "execute_result"
    }
   ],
   "source": [
    "a=a.lower()\n",
    "x=a.split()\n",
    "b=[]\n",
    "r=0\n",
    "d=len(x)\n",
    "while r<d:\n",
    "    if x[r].endswith(\"o\"):\n",
    "        b.append(x[r])\n",
    "    r=r+1\n",
    "print(\"list of words ending with :\")\n",
    "set(b)"
   ]
  },
  {
   "cell_type": "code",
   "execution_count": null,
   "metadata": {},
   "outputs": [],
   "source": []
  },
  {
   "cell_type": "markdown",
   "metadata": {},
   "source": [
    ">  `Question:` Find the list of letter ending with \n",
    "- e\n",
    "- n\n",
    "> `hint - You need to use for loop for this`"
   ]
  },
  {
   "cell_type": "code",
   "execution_count": 28,
   "metadata": {},
   "outputs": [],
   "source": [
    "# CODE HERE"
   ]
  },
  {
   "cell_type": "code",
   "execution_count": 38,
   "metadata": {},
   "outputs": [
    {
     "name": "stdout",
     "output_type": "stream",
     "text": [
      "list of words end with e is  : \n",
      " {'while', '(see', '\"sequence', 'message', 'deutsche', 'he', 'france', 'have', 'mobile', 'one', 'since', '(compare', '(groupe', 'language', 'the', 'be', 'these', 'type', 'made', 'determine', 'simple'}\n"
     ]
    }
   ],
   "source": [
    "a=a.lower()\n",
    "x=a.split()\n",
    "b=[]\n",
    "r=0\n",
    "d=len(x)\n",
    "while r<d:\n",
    "    if x[r].endswith(\"e\"):\n",
    "        b.append(x[r])\n",
    "    r=r+1\n",
    "print(\"list of words end with e is  :\",\"\\n\",set(b))"
   ]
  },
  {
   "cell_type": "code",
   "execution_count": 30,
   "metadata": {},
   "outputs": [
    {
     "name": "stdout",
     "output_type": "stream",
     "text": [
      "List of words ends with e is:\n",
      "{'be', 'these', 'deutsche', 'one', 'made', 'he', 'message', 'type', 'mobile', '(compare', 'france', 'determine', '(see', 'have', '(groupe', 'while', 'since', '\"sequence', 'simple', 'language', 'the'}\n"
     ]
    }
   ],
   "source": []
  },
  {
   "cell_type": "code",
   "execution_count": 31,
   "metadata": {},
   "outputs": [
    {
     "name": "stdout",
     "output_type": "stream",
     "text": [
      "List of words ends with n is:\n",
      "{'kevin', 'than', 'in', 'ian', 'an', 'solution', 'finn', 'on', 'can', 'information', 'isdn', 'began'}\n"
     ]
    }
   ],
   "source": []
  },
  {
   "cell_type": "code",
   "execution_count": 40,
   "metadata": {},
   "outputs": [
    {
     "name": "stdout",
     "output_type": "stream",
     "text": [
      "list of words ends with n is : \n",
      " {'began', 'information', 'an', 'than', 'ian', 'kevin', 'can', 'in', 'finn', 'isdn', 'solution', 'on'}\n"
     ]
    }
   ],
   "source": [
    "a=a.lower()\n",
    "x=a.split()\n",
    "b=[]\n",
    "r=0\n",
    "d=len(x)\n",
    "while r<d:\n",
    "    if x[r].endswith(\"n\"):\n",
    "        b.append(x[r])\n",
    "    r=r+1\n",
    "print(\"list of words ends with n is :\",\"\\n\",set(b))"
   ]
  },
  {
   "cell_type": "code",
   "execution_count": null,
   "metadata": {},
   "outputs": [],
   "source": []
  },
  {
   "cell_type": "markdown",
   "metadata": {},
   "source": [
    ">  `Question:` Extract first 10 words of text and Capitalize first letter of each word"
   ]
  },
  {
   "cell_type": "code",
   "execution_count": 59,
   "metadata": {},
   "outputs": [
    {
     "data": {
      "text/plain": [
       "'The University Of Hawaii Began Using Radio To Send Digital '"
      ]
     },
     "execution_count": 59,
     "metadata": {},
     "output_type": "execute_result"
    }
   ],
   "source": [
    "text[0:59].title()"
   ]
  },
  {
   "cell_type": "code",
   "execution_count": 33,
   "metadata": {},
   "outputs": [
    {
     "data": {
      "text/plain": [
       "'The University Of Hawaii Began Using Radio To Send Digital'"
      ]
     },
     "execution_count": 33,
     "metadata": {},
     "output_type": "execute_result"
    }
   ],
   "source": []
  },
  {
   "cell_type": "markdown",
   "metadata": {},
   "source": [
    ">  `Question:` Replace the word \"University\" with name \"Innomatics\" in text"
   ]
  },
  {
   "cell_type": "code",
   "execution_count": 229,
   "metadata": {},
   "outputs": [
    {
     "data": {
      "text/plain": [
       "'The University of Hawaii began using radio to send digital information as early as 1971,using ALOHAnet. \\nFriedhelm Hillebrand conceptualised SMS in 1984 while working for Deutsche Telekom. Sitting at a typewriter at home, \\nHillebrand typed out random sentences and counted every letter, number, punctuation, and space. \\nAlmost every time, the messages contained fewer than 160 characters, thus giving the basis for the \\nlimit one could type via text messaging. With Bernard Ghillebaert of France Télécom, he developed \\na proposal for the GSM (Groupe Spécial Mobile) meeting in February 1985 in Oslo. \\nThe first technical solution evolved in a GSM subgroup under the leadership of Finn Trosby. \\nIt was further developed under the leadership of Kevin Holley and Ian Harris (see Short Message Service). \\nSMS forms an integral part of SS7 (Signalling System No. 7). Under SS7, it is a \"state\" with a 160 character data, \\ncoded in the ITU-T \"T.56\" text format, that has a \"sequence lead in\" to determine different language codes, \\nand may have special character codes that permits, for example, sending simple graphs as text. \\nThis was part of ISDN (Integrated Services Digital Network) and since GSM is based on this, \\nmade its way to the mobile phone. Messages could be sent and received on ISDN phones, \\nand these can send SMS to any GSM phone. The possibility of doing something is one thing, \\nimplementing it another, but systems existed from 1988 that sent SMS messages to mobile phones (compare ND-NOTIS).'"
      ]
     },
     "execution_count": 229,
     "metadata": {},
     "output_type": "execute_result"
    }
   ],
   "source": [
    "text.replace(\"innomatics\",\"university\")"
   ]
  },
  {
   "cell_type": "code",
   "execution_count": 35,
   "metadata": {
    "scrolled": false
   },
   "outputs": [
    {
     "name": "stdout",
     "output_type": "stream",
     "text": [
      "The Innomatics of Hawaii began using radio to send digital information as early as 1971,using ALOHAnet. \n",
      "Friedhelm Hillebrand conceptualised SMS in 1984 while working for Deutsche Telekom. Sitting at a typewriter at home, \n",
      "Hillebrand typed out random sentences and counted every letter, number, punctuation, and space. \n",
      "Almost every time, the messages contained fewer than 160 characters, thus giving the basis for the \n",
      "limit one could type via text messaging. With Bernard Ghillebaert of France Télécom, he developed \n",
      "a proposal for the GSM (Groupe Spécial Mobile) meeting in February 1985 in Oslo. \n",
      "The first technical solution evolved in a GSM subgroup under the leadership of Finn Trosby. \n",
      "It was further developed under the leadership of Kevin Holley and Ian Harris (see Short Message Service). \n",
      "SMS forms an integral part of SS7 (Signalling System No. 7). Under SS7, it is a \"state\" with a 160 character data, \n",
      "coded in the ITU-T \"T.56\" text format, that has a \"sequence lead in\" to determine different language codes, \n",
      "and may have special character codes that permits, for example, sending simple graphs as text. \n",
      "This was part of ISDN (Integrated Services Digital Network) and since GSM is based on this, \n",
      "made its way to the mobile phone. Messages could be sent and received on ISDN phones, \n",
      "and these can send SMS to any GSM phone. The possibility of doing something is one thing, \n",
      "implementing it another, but systems existed from 1988 that sent SMS messages to mobile phones (compare ND-NOTIS).\n"
     ]
    }
   ],
   "source": []
  },
  {
   "cell_type": "markdown",
   "metadata": {},
   "source": [
    "> `Question:`  Convert the \"text\" into sentances and store those into one variable called \"sentance\""
   ]
  },
  {
   "cell_type": "code",
   "execution_count": 42,
   "metadata": {},
   "outputs": [],
   "source": [
    "x = \"\"\"The University of Hawaii began using radio to send digital information as early as 1971,using ALOHAnet. \n",
    "Friedhelm Hillebrand conceptualised SMS in 1984 while working for Deutsche Telekom. Sitting at a typewriter at home, \n",
    "Hillebrand typed out random sentences and counted every letter, number, punctuation, and space. \n",
    "Almost every time, the messages contained fewer than 160 characters, thus giving the basis for the \n",
    "limit one could type via text messaging. With Bernard Ghillebaert of France Télécom, he developed \n",
    "a proposal for the GSM (Groupe Spécial Mobile) meeting in February 1985 in Oslo. \n",
    "The first technical solution evolved in a GSM subgroup under the leadership of Finn Trosby. \n",
    "It was further developed under the leadership of Kevin Holley and Ian Harris (see Short Message Service). \n",
    "SMS forms an integral part of SS7 (Signalling System No. 7). Under SS7, it is a \"state\" with a 160 character data, \n",
    "coded in the ITU-T \"T.56\" text format, that has a \"sequence lead in\" to determine different language codes, \n",
    "and may have special character codes that permits, for example, sending simple graphs as text. \n",
    "This was part of ISDN (Integrated Services Digital Network) and since GSM is based on this, \n",
    "made its way to the mobile phone. Messages could be sent and received on ISDN phones, \n",
    "and these can send SMS to any GSM phone. The possibility of doing something is one thing, \n",
    "implementing it another, but systems existed from 1988 that sent SMS messages to mobile phones (compare ND-NOTIS).\"\"\""
   ]
  },
  {
   "cell_type": "code",
   "execution_count": 43,
   "metadata": {},
   "outputs": [
    {
     "data": {
      "text/plain": [
       "['The University of Hawaii began using radio to send digital information as early as 1971,using ALOHAnet',\n",
       " ' \\nFriedhelm Hillebrand conceptualised SMS in 1984 while working for Deutsche Telekom',\n",
       " ' Sitting at a typewriter at home, \\nHillebrand typed out random sentences and counted every letter, number, punctuation, and space',\n",
       " ' \\nAlmost every time, the messages contained fewer than 160 characters, thus giving the basis for the \\nlimit one could type via text messaging',\n",
       " ' With Bernard Ghillebaert of France Télécom, he developed \\na proposal for the GSM (Groupe Spécial Mobile) meeting in February 1985 in Oslo',\n",
       " ' \\nThe first technical solution evolved in a GSM subgroup under the leadership of Finn Trosby',\n",
       " ' \\nIt was further developed under the leadership of Kevin Holley and Ian Harris (see Short Message Service)',\n",
       " ' \\nSMS forms an integral part of SS7 (Signalling System No',\n",
       " ' 7)',\n",
       " ' Under SS7, it is a \"state\" with a 160 character data, \\ncoded in the ITU-T \"T',\n",
       " '56\" text format, that has a \"sequence lead in\" to determine different language codes, \\nand may have special character codes that permits, for example, sending simple graphs as text',\n",
       " ' \\nThis was part of ISDN (Integrated Services Digital Network) and since GSM is based on this, \\nmade its way to the mobile phone',\n",
       " ' Messages could be sent and received on ISDN phones, \\nand these can send SMS to any GSM phone',\n",
       " ' The possibility of doing something is one thing, \\nimplementing it another, but systems existed from 1988 that sent SMS messages to mobile phones (compare ND-NOTIS)',\n",
       " '']"
      ]
     },
     "execution_count": 43,
     "metadata": {},
     "output_type": "execute_result"
    }
   ],
   "source": [
    "x.split(\".\")"
   ]
  },
  {
   "cell_type": "code",
   "execution_count": 2,
   "metadata": {},
   "outputs": [
    {
     "data": {
      "text/plain": [
       "['The University of Hawaii began using radio to send digital information as early as 1971,using ALOHAnet',\n",
       " ' \\nFriedhelm Hillebrand conceptualised SMS in 1984 while working for Deutsche Telekom',\n",
       " ' Sitting at a typewriter at home, \\nHillebrand typed out random sentences and counted every letter, number, punctuation, and space',\n",
       " ' \\nAlmost every time, the messages contained fewer than 160 characters, thus giving the basis for the \\nlimit one could type via text messaging',\n",
       " ' With Bernard Ghillebaert of France Télécom, he developed \\na proposal for the GSM (Groupe Spécial Mobile) meeting in February 1985 in Oslo',\n",
       " ' \\nThe first technical solution evolved in a GSM subgroup under the leadership of Finn Trosby',\n",
       " ' \\nIt was further developed under the leadership of Kevin Holley and Ian Harris (see Short Message Service)',\n",
       " ' \\nSMS forms an integral part of SS7 (Signalling System No',\n",
       " ' 7)',\n",
       " ' Under SS7, it is a \"state\" with a 160 character data, \\ncoded in the ITU-T \"T',\n",
       " '56\" text format, that has a \"sequence lead in\" to determine different language codes, \\nand may have special character codes that permits, for example, sending simple graphs as text',\n",
       " ' \\nThis was part of ISDN (Integrated Services Digital Network) and since GSM is based on this, \\nmade its way to the mobile phone',\n",
       " ' Messages could be sent and received on ISDN phones, \\nand these can send SMS to any GSM phone',\n",
       " ' The possibility of doing something is one thing, \\nimplementing it another, but systems existed from 1988 that sent SMS messages to mobile phones (compare ND-NOTIS)',\n",
       " '']"
      ]
     },
     "execution_count": 2,
     "metadata": {},
     "output_type": "execute_result"
    }
   ],
   "source": []
  },
  {
   "cell_type": "markdown",
   "metadata": {},
   "source": [
    " `Question:`\n",
    " \n",
    "> 1.From the above sentance remove '\\n'\n"
   ]
  },
  {
   "cell_type": "code",
   "execution_count": null,
   "metadata": {},
   "outputs": [],
   "source": []
  },
  {
   "cell_type": "code",
   "execution_count": 13,
   "metadata": {},
   "outputs": [],
   "source": [
    "x = \"\"\"The University of Hawaii began using radio to send digital information as early as 1971,using ALOHAnet. \n",
    "Friedhelm Hillebrand conceptualised SMS in 1984 while working for Deutsche Telekom. Sitting at a typewriter at home, \n",
    "Hillebrand typed out random sentences and counted every letter, number, punctuation, and space. \n",
    "Almost every time, the messages contained fewer than 160 characters, thus giving the basis for the \n",
    "limit one could type via text messaging. With Bernard Ghillebaert of France Télécom, he developed \n",
    "a proposal for the GSM (Groupe Spécial Mobile) meeting in February 1985 in Oslo. \n",
    "The first technical solution evolved in a GSM subgroup under the leadership of Finn Trosby. \n",
    "It was further developed under the leadership of Kevin Holley and Ian Harris (see Short Message Service). \n",
    "SMS forms an integral part of SS7 (Signalling System No. 7). Under SS7, it is a \"state\" with a 160 character data, \n",
    "coded in the ITU-T \"T.56\" text format, that has a \"sequence lead in\" to determine different language codes, \n",
    "and may have special character codes that permits, for example, sending simple graphs as text. \n",
    "This was part of ISDN (Integrated Services Digital Network) and since GSM is based on this, \n",
    "made its way to the mobile phone. Messages could be sent and received on ISDN phones, \n",
    "and these can send SMS to any GSM phone. The possibility of doing something is one thing, \n",
    "implementing it another, but systems existed from 1988 that sent SMS messages to mobile phones (compare ND-NOTIS).\"\"\""
   ]
  },
  {
   "cell_type": "code",
   "execution_count": 17,
   "metadata": {},
   "outputs": [],
   "source": [
    "z=[]\n",
    "for y in x.split(\".\"):\n",
    "    z.append(y.replace(\"\\n\",\"\"))"
   ]
  },
  {
   "cell_type": "code",
   "execution_count": 18,
   "metadata": {},
   "outputs": [
    {
     "data": {
      "text/plain": [
       "['The University of Hawaii began using radio to send digital information as early as 1971,using ALOHAnet',\n",
       " ' Friedhelm Hillebrand conceptualised SMS in 1984 while working for Deutsche Telekom',\n",
       " ' Sitting at a typewriter at home, Hillebrand typed out random sentences and counted every letter, number, punctuation, and space',\n",
       " ' Almost every time, the messages contained fewer than 160 characters, thus giving the basis for the limit one could type via text messaging',\n",
       " ' With Bernard Ghillebaert of France Télécom, he developed a proposal for the GSM (Groupe Spécial Mobile) meeting in February 1985 in Oslo',\n",
       " ' The first technical solution evolved in a GSM subgroup under the leadership of Finn Trosby',\n",
       " ' It was further developed under the leadership of Kevin Holley and Ian Harris (see Short Message Service)',\n",
       " ' SMS forms an integral part of SS7 (Signalling System No',\n",
       " ' 7)',\n",
       " ' Under SS7, it is a \"state\" with a 160 character data, coded in the ITU-T \"T',\n",
       " '56\" text format, that has a \"sequence lead in\" to determine different language codes, and may have special character codes that permits, for example, sending simple graphs as text',\n",
       " ' This was part of ISDN (Integrated Services Digital Network) and since GSM is based on this, made its way to the mobile phone',\n",
       " ' Messages could be sent and received on ISDN phones, and these can send SMS to any GSM phone',\n",
       " ' The possibility of doing something is one thing, implementing it another, but systems existed from 1988 that sent SMS messages to mobile phones (compare ND-NOTIS)',\n",
       " '']"
      ]
     },
     "execution_count": 18,
     "metadata": {},
     "output_type": "execute_result"
    }
   ],
   "source": [
    "z"
   ]
  },
  {
   "cell_type": "code",
   "execution_count": null,
   "metadata": {},
   "outputs": [],
   "source": []
  },
  {
   "cell_type": "code",
   "execution_count": null,
   "metadata": {},
   "outputs": [],
   "source": []
  },
  {
   "cell_type": "code",
   "execution_count": null,
   "metadata": {},
   "outputs": [],
   "source": []
  },
  {
   "cell_type": "markdown",
   "metadata": {},
   "source": [
    " > 2. From the above sentace print the first word from each sentance\n"
   ]
  },
  {
   "cell_type": "code",
   "execution_count": 11,
   "metadata": {},
   "outputs": [],
   "source": [
    "x = \"\"\"The University of Hawaii began using radio to send digital information as early as 1971,using ALOHAnet. \n",
    "Friedhelm Hillebrand conceptualised SMS in 1984 while working for Deutsche Telekom. Sitting at a typewriter at home, \n",
    "Hillebrand typed out random sentences and counted every letter, number, punctuation, and space. \n",
    "Almost every time, the messages contained fewer than 160 characters, thus giving the basis for the \n",
    "limit one could type via text messaging. With Bernard Ghillebaert of France Télécom, he developed \n",
    "a proposal for the GSM (Groupe Spécial Mobile) meeting in February 1985 in Oslo. \n",
    "The first technical solution evolved in a GSM subgroup under the leadership of Finn Trosby. \n",
    "It was further developed under the leadership of Kevin Holley and Ian Harris (see Short Message Service). \n",
    "SMS forms an integral part of SS7 (Signalling System No. 7). Under SS7, it is a \"state\" with a 160 character data, \n",
    "coded in the ITU-T \"T.56\" text format, that has a \"sequence lead in\" to determine different language codes, \n",
    "and may have special character codes that permits, for example, sending simple graphs as text. \n",
    "This was part of ISDN (Integrated Services Digital Network) and since GSM is based on this, \n",
    "made its way to the mobile phone. Messages could be sent and received on ISDN phones, \n",
    "and these can send SMS to any GSM phone. The possibility of doing something is one thing, \n",
    "implementing it another, but systems existed from 1988 that sent SMS messages to mobile phones (compare ND-NOTIS).\"\"\""
   ]
  },
  {
   "cell_type": "code",
   "execution_count": 12,
   "metadata": {},
   "outputs": [
    {
     "name": "stdout",
     "output_type": "stream",
     "text": [
      "The\n",
      "Friedhelm\n",
      "Sitting\n",
      "Almost\n",
      "With\n",
      "The\n",
      "It\n",
      "SMS\n",
      "7)\n",
      "Under\n",
      "56\"\n",
      "This\n",
      "Messages\n",
      "The\n"
     ]
    },
    {
     "ename": "IndexError",
     "evalue": "list index out of range",
     "output_type": "error",
     "traceback": [
      "\u001b[1;31m---------------------------------------------------------------------------\u001b[0m",
      "\u001b[1;31mIndexError\u001b[0m                                Traceback (most recent call last)",
      "Input \u001b[1;32mIn [12]\u001b[0m, in \u001b[0;36m<cell line: 1>\u001b[1;34m()\u001b[0m\n\u001b[0;32m      1\u001b[0m \u001b[38;5;28;01mfor\u001b[39;00m y \u001b[38;5;129;01min\u001b[39;00m x\u001b[38;5;241m.\u001b[39msplit(\u001b[38;5;124m\"\u001b[39m\u001b[38;5;124m.\u001b[39m\u001b[38;5;124m\"\u001b[39m):\n\u001b[1;32m----> 2\u001b[0m     \u001b[38;5;28mprint\u001b[39m(\u001b[43my\u001b[49m\u001b[38;5;241;43m.\u001b[39;49m\u001b[43msplit\u001b[49m\u001b[43m(\u001b[49m\u001b[43m)\u001b[49m\u001b[43m[\u001b[49m\u001b[38;5;241;43m0\u001b[39;49m\u001b[43m]\u001b[49m)\n",
      "\u001b[1;31mIndexError\u001b[0m: list index out of range"
     ]
    }
   ],
   "source": [
    "for y in x.split(\".\"):\n",
    "    print(y.split()[0])"
   ]
  },
  {
   "cell_type": "code",
   "execution_count": 13,
   "metadata": {},
   "outputs": [
    {
     "name": "stdout",
     "output_type": "stream",
     "text": [
      "The\n",
      "Friedhelm\n",
      "Sitting\n",
      "Almost\n",
      "With\n",
      "The\n",
      "It\n",
      "SMS\n",
      "7)\n",
      "Under\n",
      "56\"\n",
      "This\n",
      "Messages\n",
      "The\n",
      "list index out of range\n"
     ]
    }
   ],
   "source": [
    "try:\n",
    "    for y in x.split(\".\"):\n",
    "        print(y.split()[0])\n",
    "except IndexError:\n",
    "    print(\"list index out of range\")"
   ]
  },
  {
   "cell_type": "code",
   "execution_count": null,
   "metadata": {},
   "outputs": [],
   "source": []
  },
  {
   "cell_type": "markdown",
   "metadata": {},
   "source": [
    "> 3. From the above sentace print even posioned sentances"
   ]
  },
  {
   "cell_type": "code",
   "execution_count": 4,
   "metadata": {},
   "outputs": [],
   "source": [
    "x=['The University of Hawaii began using radio to send digital information as early as 1971,using ALOHAnet',\n",
    " ' Friedhelm Hillebrand conceptualised SMS in 1984 while working for Deutsche Telekom',\n",
    " ' Sitting at a typewriter at home, Hillebrand typed out random sentences and counted every letter, number, punctuation, and space',\n",
    " ' Almost every time, the messages contained fewer than 160 characters, thus giving the basis for the limit one could type via text messaging',\n",
    " ' With Bernard Ghillebaert of France Télécom, he developed a proposal for the GSM (Groupe Spécial Mobile) meeting in February 1985 in Oslo',\n",
    " ' The first technical solution evolved in a GSM subgroup under the leadership of Finn Trosby',\n",
    " ' It was further developed under the leadership of Kevin Holley and Ian Harris (see Short Message Service)',\n",
    " ' SMS forms an integral part of SS7 (Signalling System No',\n",
    " ' 7)',\n",
    " ' Under SS7, it is a \"state\" with a 160 character data, coded in the ITU-T \"T',\n",
    " '56\" text format, that has a \"sequence lead in\" to determine different language codes, and may have special character codes that permits, for example, sending simple graphs as text',\n",
    " ' This was part of ISDN (Integrated Services Digital Network) and since GSM is based on this, made its way to the mobile phone',\n",
    " ' Messages could be sent and received on ISDN phones, and these can send SMS to any GSM phone',\n",
    " ' The possibility of doing something is one thing, implementing it another, but systems existed from 1988 that sent SMS messages to mobile phones (compare ND-NOTIS)',\n",
    " '']"
   ]
  },
  {
   "cell_type": "code",
   "execution_count": null,
   "metadata": {},
   "outputs": [],
   "source": []
  },
  {
   "cell_type": "code",
   "execution_count": 5,
   "metadata": {},
   "outputs": [
    {
     "name": "stdout",
     "output_type": "stream",
     "text": [
      "The University of Hawaii began using radio to send digital information as early as 1971,using ALOHAnet\n",
      " Sitting at a typewriter at home, Hillebrand typed out random sentences and counted every letter, number, punctuation, and space\n",
      " With Bernard Ghillebaert of France Télécom, he developed a proposal for the GSM (Groupe Spécial Mobile) meeting in February 1985 in Oslo\n",
      " It was further developed under the leadership of Kevin Holley and Ian Harris (see Short Message Service)\n",
      " 7)\n",
      "56\" text format, that has a \"sequence lead in\" to determine different language codes, and may have special character codes that permits, for example, sending simple graphs as text\n",
      " Messages could be sent and received on ISDN phones, and these can send SMS to any GSM phone\n",
      "\n"
     ]
    }
   ],
   "source": [
    "y=list(x)\n",
    "a=0\n",
    "b=len(y)\n",
    "while a<b:\n",
    "    if a%2==0:\n",
    "        print(y[a])\n",
    "    a=a+1"
   ]
  },
  {
   "cell_type": "code",
   "execution_count": null,
   "metadata": {},
   "outputs": [],
   "source": []
  },
  {
   "cell_type": "markdown",
   "metadata": {},
   "source": [
    ">   `Question:` If the following string is given as input to the program:\n",
    "\n",
    "- H1e2l3l4o5w6o7r8l9d\n",
    "\n",
    ">   `Output:`  Then, the output of the program should be:\n",
    "\n",
    "- Helloworld"
   ]
  },
  {
   "cell_type": "code",
   "execution_count": 5,
   "metadata": {},
   "outputs": [
    {
     "name": "stdout",
     "output_type": "stream",
     "text": [
      "Helloworld\n"
     ]
    }
   ],
   "source": [
    "# CODE HERE"
   ]
  },
  {
   "cell_type": "code",
   "execution_count": 74,
   "metadata": {},
   "outputs": [
    {
     "data": {
      "text/plain": [
       "'Helloworld'"
      ]
     },
     "execution_count": 74,
     "metadata": {},
     "output_type": "execute_result"
    }
   ],
   "source": [
    "x=\"H1e2l3l4o5w6o7r8l9d\"\n",
    "x=x[0:19:2]\n",
    "x"
   ]
  },
  {
   "cell_type": "markdown",
   "metadata": {},
   "source": [
    "# [Innomatics Research Labs](https:/innomatics.in/)\n",
    "[www.innomatics.in](https:/innomatics.in/)"
   ]
  },
  {
   "cell_type": "code",
   "execution_count": null,
   "metadata": {},
   "outputs": [],
   "source": []
  }
 ],
 "metadata": {
  "kernelspec": {
   "display_name": "Python 3 (ipykernel)",
   "language": "python",
   "name": "python3"
  },
  "language_info": {
   "codemirror_mode": {
    "name": "ipython",
    "version": 3
   },
   "file_extension": ".py",
   "mimetype": "text/x-python",
   "name": "python",
   "nbconvert_exporter": "python",
   "pygments_lexer": "ipython3",
   "version": "3.9.12"
  }
 },
 "nbformat": 4,
 "nbformat_minor": 2
}
